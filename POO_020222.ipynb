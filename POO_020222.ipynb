{
  "nbformat": 4,
  "nbformat_minor": 0,
  "metadata": {
    "colab": {
      "name": "POO_020222.ipynb",
      "provenance": [],
      "authorship_tag": "ABX9TyP5uIH0MQnGPmSJUz02Q2J2",
      "include_colab_link": true
    },
    "kernelspec": {
      "name": "python3",
      "display_name": "Python 3"
    },
    "language_info": {
      "name": "python"
    }
  },
  "cells": [
    {
      "cell_type": "markdown",
      "metadata": {
        "id": "view-in-github",
        "colab_type": "text"
      },
      "source": [
        "<a href=\"https://colab.research.google.com/github/vanessamr/POO/blob/main/POO_020222.ipynb\" target=\"_parent\"><img src=\"https://colab.research.google.com/assets/colab-badge.svg\" alt=\"Open In Colab\"/></a>"
      ]
    },
    {
      "cell_type": "code",
      "execution_count": null,
      "metadata": {
        "colab": {
          "base_uri": "https://localhost:8080/"
        },
        "id": "FsFzEA8aEy4T",
        "outputId": "1590590f-d0fd-4585-bafa-4c462339095d"
      },
      "outputs": [
        {
          "output_type": "stream",
          "name": "stdout",
          "text": [
            "Hola mi nombre es lao\n"
          ]
        }
      ],
      "source": [
        "def lalo_dice_hola():\n",
        "  print(\"Hola mi nombre es lao\")\n",
        "\n",
        "lalo_dice_hola()\n",
        "\n",
        "\n",
        "\n",
        "\n"
      ]
    },
    {
      "cell_type": "code",
      "source": [
        "def imprime_nombre_de_pokemon(pokemon_name):\n",
        "  print(pokemon_name +\" es un Pokemon.\")\n",
        "\n",
        "imprime_nombre_de_pokemon(\"Charizard\")\n",
        "imprime_nombre_de_pokemon(\"Squirtle\")\n",
        "imprime_nombre_de_pokemon(\"Bulbasaur\")\n",
        "imprime_nombre_de_pokemon(\"Yuma\")"
      ],
      "metadata": {
        "colab": {
          "base_uri": "https://localhost:8080/"
        },
        "id": "RcRcKECkE8kV",
        "outputId": "762a5b3f-9c0f-43f1-88c8-eae0297f1a32"
      },
      "execution_count": null,
      "outputs": [
        {
          "output_type": "stream",
          "name": "stdout",
          "text": [
            "Charizard es un Pokemon.\n",
            "Squirtle es un Pokemon.\n",
            "Bulbasaur es un Pokemon.\n",
            "Yuma es un Pokemon.\n"
          ]
        }
      ]
    },
    {
      "cell_type": "code",
      "source": [
        "def imprime_pokemon_nombre_y_tipo(pokemon_name, pokemon_type):\n",
        "  print(pokemon_name +\" es tipo \"+ pokemon_type)\n",
        "\n",
        "imprime_pokemon_nombre_y_tipo(\"Charizard\",\"Fuego\")\n"
      ],
      "metadata": {
        "colab": {
          "base_uri": "https://localhost:8080/"
        },
        "id": "D3nDSETHPFfV",
        "outputId": "397017bb-1876-428a-d5e6-c2b9c20ac212"
      },
      "execution_count": null,
      "outputs": [
        {
          "output_type": "stream",
          "name": "stdout",
          "text": [
            "Charizard es tipo Fuego\n"
          ]
        }
      ]
    },
    {
      "cell_type": "code",
      "source": [
        "#GENERAR UNA CLASE:\n",
        "\n",
        "class GOT:\n",
        "\n",
        "  sex= \"woman\"\n",
        "  hair_color= \"brown\"\n",
        "  name= \"nobody\"\n",
        "  hause= \"stark\"\n",
        "\n",
        "  def say(self):\n",
        "    print(f'hello, my name is {self.name}, hause {self.hause}')\n",
        "    return self.name\n",
        "\n",
        "    nobody=caracter()\n",
        "     "
      ],
      "metadata": {
        "id": "sFif3IBmdorg"
      },
      "execution_count": null,
      "outputs": []
    },
    {
      "cell_type": "code",
      "source": [
        " print(\"nobody´s name\", nobody.name)\n"
      ],
      "metadata": {
        "colab": {
          "base_uri": "https://localhost:8080/",
          "height": 165
        },
        "id": "YGJ4kSxzkWPI",
        "outputId": "f81aab7c-77af-429c-ca17-e59f43dfde37"
      },
      "execution_count": null,
      "outputs": [
        {
          "output_type": "error",
          "ename": "NameError",
          "evalue": "ignored",
          "traceback": [
            "\u001b[0;31m---------------------------------------------------------------------------\u001b[0m",
            "\u001b[0;31mNameError\u001b[0m                                 Traceback (most recent call last)",
            "\u001b[0;32m<ipython-input-6-18ab6bd51c4f>\u001b[0m in \u001b[0;36m<module>\u001b[0;34m()\u001b[0m\n\u001b[0;32m----> 1\u001b[0;31m \u001b[0mprint\u001b[0m\u001b[0;34m(\u001b[0m\u001b[0;34m\"nobody´s name\"\u001b[0m\u001b[0;34m,\u001b[0m \u001b[0mnobody\u001b[0m\u001b[0;34m.\u001b[0m\u001b[0mname\u001b[0m\u001b[0;34m)\u001b[0m\u001b[0;34m\u001b[0m\u001b[0;34m\u001b[0m\u001b[0m\n\u001b[0m",
            "\u001b[0;31mNameError\u001b[0m: name 'nobody' is not defined"
          ]
        }
      ]
    },
    {
      "cell_type": "code",
      "source": [
        "#hola\n"
      ],
      "metadata": {
        "id": "SPEFa8S5MFM6"
      },
      "execution_count": null,
      "outputs": []
    }
  ]
}