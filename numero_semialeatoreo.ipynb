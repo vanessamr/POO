{
  "nbformat": 4,
  "nbformat_minor": 0,
  "metadata": {
    "colab": {
      "name": "numero_semialeatoreo.ipynb",
      "provenance": [],
      "authorship_tag": "ABX9TyMKEyTVLsxE7ZQ9zWtUkSyu",
      "include_colab_link": true
    },
    "kernelspec": {
      "name": "python3",
      "display_name": "Python 3"
    },
    "language_info": {
      "name": "python"
    }
  },
  "cells": [
    {
      "cell_type": "markdown",
      "metadata": {
        "id": "view-in-github",
        "colab_type": "text"
      },
      "source": [
        "<a href=\"https://colab.research.google.com/github/vanessamr/POO/blob/main/numero_semialeatoreo.ipynb\" target=\"_parent\"><img src=\"https://colab.research.google.com/assets/colab-badge.svg\" alt=\"Open In Colab\"/></a>"
      ]
    },
    {
      "cell_type": "code",
      "execution_count": 27,
      "metadata": {
        "id": "xfv5CZ2LOcAI"
      },
      "outputs": [],
      "source": [
        "semilla=1213\n",
        "for i in range(3):\n",
        "  semilla=str(semilla)\n",
        "  semilla='00'+semilla\n",
        "  semilla=int(semilla)\n",
        "  n1= semilla**2\n",
        "  n1=str(n1) #se convierte en texto para quitarle los dos primeros numeros y dos ultimos numeros\n",
        "  if len(n1)>4:\n",
        "    n1= int(n1[:4])\n",
        "  else:\n",
        "    n1=int(n1[:-2][1:]) #se vuelve a convertir en numero \n",
        "  semilla=n1\n",
        "\n"
      ]
    },
    {
      "cell_type": "code",
      "source": [
        "semilla"
      ],
      "metadata": {
        "colab": {
          "base_uri": "https://localhost:8080/"
        },
        "id": "CwofIVwoPZ0n",
        "outputId": "9b5af7f8-a3ca-4e02-e885-be88b33c7901"
      },
      "execution_count": 29,
      "outputs": [
        {
          "output_type": "execute_result",
          "data": {
            "text/plain": [
              "4678"
            ]
          },
          "metadata": {},
          "execution_count": 29
        }
      ]
    }
  ]
}