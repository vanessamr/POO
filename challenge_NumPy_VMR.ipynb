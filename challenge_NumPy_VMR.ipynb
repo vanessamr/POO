{
  "nbformat": 4,
  "nbformat_minor": 0,
  "metadata": {
    "celltoolbar": "Create Assignment",
    "kernelspec": {
      "display_name": "Python 3",
      "language": "python",
      "name": "python3"
    },
    "language_info": {
      "codemirror_mode": {
        "name": "ipython",
        "version": 3
      },
      "file_extension": ".py",
      "mimetype": "text/x-python",
      "name": "python",
      "nbconvert_exporter": "python",
      "pygments_lexer": "ipython3",
      "version": "3.8.8"
    },
    "colab": {
      "name": "challenge-NumPy_VMR.ipynb",
      "provenance": [],
      "include_colab_link": true
    }
  },
  "cells": [
    {
      "cell_type": "markdown",
      "metadata": {
        "id": "view-in-github",
        "colab_type": "text"
      },
      "source": [
        "<a href=\"https://colab.research.google.com/github/vanessamr/POO/blob/main/challenge_NumPy_VMR.ipynb\" target=\"_parent\"><img src=\"https://colab.research.google.com/assets/colab-badge.svg\" alt=\"Open In Colab\"/></a>"
      ]
    },
    {
      "cell_type": "markdown",
      "metadata": {
        "id": "vxaJjqJur_lZ"
      },
      "source": [
        "###### (2020) Gonzalo G. Peraza Mues"
      ]
    },
    {
      "cell_type": "markdown",
      "metadata": {
        "id": "pzK3F5-Zr_li"
      },
      "source": [
        "# Numpy Exercises"
      ]
    },
    {
      "cell_type": "markdown",
      "metadata": {
        "id": "AxgbvcSer_lj"
      },
      "source": [
        "Vamos a resolver algunos ejercicios sencillos con Numpy."
      ]
    },
    {
      "cell_type": "markdown",
      "source": [
        ""
      ],
      "metadata": {
        "id": "P5stHx7-jsHk"
      }
    },
    {
      "cell_type": "code",
      "metadata": {
        "id": "hATxv-Xar_lk"
      },
      "source": [
        "import numpy as np\n",
        "\n",
        "# Definimos un vector\n",
        "x=np.array([1, 2, 3, 4, 5])\n",
        "# Y una matriz\n",
        "m=np.array([[1, 2, 3],[4, 5, 6,], [7, 8, 9]])"
      ],
      "execution_count": null,
      "outputs": []
    },
    {
      "cell_type": "code",
      "source": [
        "print(x)"
      ],
      "metadata": {
        "colab": {
          "base_uri": "https://localhost:8080/"
        },
        "id": "S2KSaJbKkBCj",
        "outputId": "37215830-18fa-4d27-e5ff-7642063aa9e9"
      },
      "execution_count": null,
      "outputs": [
        {
          "output_type": "stream",
          "name": "stdout",
          "text": [
            "[1 2 3 4 5]\n"
          ]
        }
      ]
    },
    {
      "cell_type": "code",
      "source": [
        "print(m)"
      ],
      "metadata": {
        "colab": {
          "base_uri": "https://localhost:8080/"
        },
        "id": "FefclCjFkZmt",
        "outputId": "41fb86dd-26db-4da0-fa0e-194da4d84c64"
      },
      "execution_count": null,
      "outputs": [
        {
          "output_type": "stream",
          "name": "stdout",
          "text": [
            "[[1 2 3]\n",
            " [4 5 6]\n",
            " [7 8 9]]\n"
          ]
        }
      ]
    },
    {
      "cell_type": "markdown",
      "metadata": {
        "id": "p21wtQc_r_ll"
      },
      "source": [
        "Una operación común que querrá hacer con\n",
        "vectores o matrices es sumar cada elemento.\n",
        "La notación puede dar miedo, pero en realidad es\n",
        "bastante simple:\n",
        "$$\n",
        "\\sum_{i,j = 1}^n m_{ij}\n",
        "$$\n",
        "El símbolo $\\Sigma$ es $\\sigma$ mayúscula\n",
        "y se llama \"sigma\". Significa que para alguna matriz $m$, donde $i$ representa una fila y $j$ representa una columna, sume todos los elementos. $n$ se refiere al número de elementos de la variable $m$.\n",
        "\n",
        "Aunque puede implementar esta operación usando un bucle for, NumPy lo hace fácil al proporcionar un método `sum`.\n",
        "\n",
        "Intente implementarlo ahora `m.sum ()`, debes obetener el valor 45."
      ]
    },
    {
      "cell_type": "code",
      "metadata": {
        "nbgrader": {
          "grade": false,
          "grade_id": "cell-5d4dc90f4acbb3fb",
          "locked": false,
          "schema_version": 3,
          "solution": true,
          "task": false
        },
        "id": "DjXqBtW_r_lt",
        "colab": {
          "base_uri": "https://localhost:8080/"
        },
        "outputId": "8d9626b9-85fe-4863-872b-6afd098e89a3"
      },
      "source": [
        "a= np.sum(m)\n",
        "a"
      ],
      "execution_count": null,
      "outputs": [
        {
          "output_type": "execute_result",
          "data": {
            "text/plain": [
              "45"
            ]
          },
          "metadata": {},
          "execution_count": 5
        }
      ]
    },
    {
      "cell_type": "markdown",
      "metadata": {
        "id": "cTb-EvJVr_l1"
      },
      "source": [
        "Otra operación común es multiplicar cada\n",
        "valor en un vector o matriz. Esto parece\n",
        "esto:\n",
        "$$\n",
        "\\prod_{i,j=1}^n m_{ij}\n",
        "$$\n",
        "\n",
        "El símbolo $\\Pi$ es un símbolo $\\pi$ mayúscula, pronunciado \"pi\". Implemente esta ecuación de manera similar usando la función `prod`, debe obtener 362880. "
      ]
    },
    {
      "cell_type": "code",
      "metadata": {
        "nbgrader": {
          "grade": false,
          "grade_id": "cell-2eb086246d923c4a",
          "locked": false,
          "schema_version": 3,
          "solution": true,
          "task": false
        },
        "id": "JEaTfw6ir_l2",
        "colab": {
          "base_uri": "https://localhost:8080/"
        },
        "outputId": "8236c5a0-7da6-4b8c-89dd-f09d92fc0581"
      },
      "source": [
        "np.prod(m)"
      ],
      "execution_count": null,
      "outputs": [
        {
          "output_type": "execute_result",
          "data": {
            "text/plain": [
              "362880"
            ]
          },
          "metadata": {},
          "execution_count": 6
        }
      ]
    },
    {
      "cell_type": "markdown",
      "metadata": {
        "id": "AY0g9wEcr_l3"
      },
      "source": [
        "¡Estupendo! Ahora está listo para implementar algunos\n",
        "ecuaciones básicas! Empecemos con la\n",
        "media aritmética:\n",
        "$$\n",
        "\\bar{x} = \\frac{1}{n}\\times \\sum_{i=1}^n x_i\n",
        "$$\n",
        "\n",
        "Esto simplemente significa agregar cada elemento de un\n",
        "lista y dividiendo el resultado por el número de\n",
        "elementos en $ x $. Una barra sobre una variable ($ \\bar {x} $) se refiere a un tipo de media.\n",
        "\n",
        "**Hint:** Puedes obtener la cantidad de elementos\n",
        "en una matriz en NumPy con `x.size` ..\n",
        "\n",
        "\n",
        "Comúnmente conocido como: PROMEDIO"
      ]
    },
    {
      "cell_type": "code",
      "metadata": {
        "nbgrader": {
          "grade": false,
          "grade_id": "cell-3d867ae3bcaefbfc",
          "locked": false,
          "schema_version": 3,
          "solution": true,
          "task": false
        },
        "id": "Fjqiqnp0r_l3",
        "colab": {
          "base_uri": "https://localhost:8080/"
        },
        "outputId": "e0d5cd74-51cc-4cb4-efb5-1dfa59f27ff0"
      },
      "source": [
        "# Calcula la MEDIA ARITMETICA y guardala en la variable 'mean' \n",
        "mean = 0\n",
        "\n",
        "### Codea aqui\n",
        "#print(f'Calulaste una media de {mean}, debería ser 3.0')\n",
        "np.size(m)\n",
        "np.mean(m)"
      ],
      "execution_count": null,
      "outputs": [
        {
          "output_type": "execute_result",
          "data": {
            "text/plain": [
              "5.0"
            ]
          },
          "metadata": {},
          "execution_count": 7
        }
      ]
    },
    {
      "cell_type": "code",
      "source": [
        "np.mean(x)"
      ],
      "metadata": {
        "colab": {
          "base_uri": "https://localhost:8080/"
        },
        "id": "vZ9jtv_kQQjD",
        "outputId": "38ae01ff-98ba-4a96-8f58-29ddcb4e42cc"
      },
      "execution_count": null,
      "outputs": [
        {
          "output_type": "execute_result",
          "data": {
            "text/plain": [
              "3.0"
            ]
          },
          "metadata": {},
          "execution_count": 8
        }
      ]
    },
    {
      "cell_type": "code",
      "source": [
        "mean=x.sum()/x.size\n",
        "mean"
      ],
      "metadata": {
        "colab": {
          "base_uri": "https://localhost:8080/"
        },
        "id": "ex3NWpboQaYW",
        "outputId": "4b28c8f9-632a-4471-cc08-49f6f10f5e1c"
      },
      "execution_count": null,
      "outputs": [
        {
          "output_type": "execute_result",
          "data": {
            "text/plain": [
              "3.0"
            ]
          },
          "metadata": {},
          "execution_count": 9
        }
      ]
    },
    {
      "cell_type": "code",
      "source": [
        "mean= a/9\n",
        "mean"
      ],
      "metadata": {
        "colab": {
          "base_uri": "https://localhost:8080/"
        },
        "id": "vlqO1cj44QKR",
        "outputId": "81a0e83a-fd35-4be2-d9f8-0e6bcce8e54e"
      },
      "execution_count": null,
      "outputs": [
        {
          "output_type": "execute_result",
          "data": {
            "text/plain": [
              "5.0"
            ]
          },
          "metadata": {},
          "execution_count": 10
        }
      ]
    },
    {
      "cell_type": "markdown",
      "metadata": {
        "id": "gC5d3CZpr_l4"
      },
      "source": [
        "¡Buen trabajo! Ahora implementemos algo conocido\n",
        "como la norma Frobenius (Euclidean norm, norma de un vector, distancia entre dos puntos):\n",
        "$$\n",
        "\\Vert m \\Vert_F = \\left(\n",
        "    \\sum_{i,j=1}^n m_{ij}^2\n",
        "    \\right)^{1/2}\n",
        "$$\n",
        "\n",
        "**Hint:** Puede implementar esto de varias formas, usando operadores (`**`), funciones (`np.sqrt`) y métodos (` .sum`)."
      ]
    },
    {
      "cell_type": "code",
      "metadata": {
        "nbgrader": {
          "grade": false,
          "grade_id": "cell-be7bfeba5b0e4093",
          "locked": false,
          "schema_version": 3,
          "solution": true,
          "task": false
        },
        "id": "AmQ9_LTQr_l5",
        "colab": {
          "base_uri": "https://localhost:8080/"
        },
        "outputId": "85929d2c-e1cd-4ee8-e36c-e19071627405"
      },
      "source": [
        "# Calcula la NORMA DE FROBENIUS y guardala en la variable f_norm\n",
        "f_norm = 0\n",
        "\n",
        "### Codea Aqui\n",
        "\n",
        "f_norm=np.sqrt((m**2).sum())\n",
        "#print(f'La norma Frobenius que encontraste es {round(f_norm, 4)}, y esta debe de ser 16.8819')\n",
        "f_norm"
      ],
      "execution_count": null,
      "outputs": [
        {
          "output_type": "execute_result",
          "data": {
            "text/plain": [
              "16.881943016134134"
            ]
          },
          "metadata": {},
          "execution_count": 13
        }
      ]
    },
    {
      "cell_type": "markdown",
      "metadata": {
        "id": "lxK7XOV_r_l6"
      },
      "source": [
        "¡Perfecto! Ahora, para su desafío final, implementemos la desviación estándar:\n",
        "$$\n",
        "\\sqrt{\\frac{1}{n-1}\\sum_{i=1}^n (x_i - \\bar{x})^2}\n",
        "$$\n",
        "\n",
        "Recuerde que $ \\bar {x} $ se refiere a la media aritmética de $ x $.\n",
        "En lugar de implementarlo desde cero, simplemente puede llamar a `x.mean ()`.\n"
      ]
    },
    {
      "cell_type": "code",
      "metadata": {
        "nbgrader": {
          "grade": false,
          "grade_id": "cell-16451545cc244d1a",
          "locked": false,
          "schema_version": 3,
          "solution": true,
          "task": false
        },
        "id": "xqQR2WgYr_l7",
        "colab": {
          "base_uri": "https://localhost:8080/"
        },
        "outputId": "772ac14c-0057-4b48-ac6e-59d92034879a"
      },
      "source": [
        "# Calcula la DESVIACION ESTANDAR y guardala en la variable 'sd'\n",
        "sd = 0\n",
        "\n",
        "### Codea Aqui\n",
        "sd= np.sqrt(np.sum((x-x.mean()**2)/x.size-1))\n",
        "sd\n",
        "#print(f'Has encontrado que la desviacion estandar es {round(sd, 4)}, y justo esta debia de ser 1.5811')"
      ],
      "execution_count": 15,
      "outputs": [
        {
          "output_type": "stream",
          "name": "stderr",
          "text": [
            "/usr/local/lib/python3.7/dist-packages/ipykernel_launcher.py:5: RuntimeWarning: invalid value encountered in sqrt\n",
            "  \"\"\"\n"
          ]
        },
        {
          "output_type": "execute_result",
          "data": {
            "text/plain": [
              "nan"
            ]
          },
          "metadata": {},
          "execution_count": 15
        }
      ]
    },
    {
      "cell_type": "markdown",
      "metadata": {
        "id": "S8CHM9cer_mG"
      },
      "source": [
        "Como un último reto, vamos a calcular una matriz de distancias en numpy.\n",
        "Implementa una función que tome como entrada una matrix de datos, donde cada fila es una observación y cada columna una variable, y devuelva otra matriz, la matriz de distancias.\n",
        "\n",
        "La matriz de distancias es muy utilizado en algoritmos de aprendizaje y tiene la siguiente forma:\n",
        "\n",
        "$$\n",
        "D = \\begin{pmatrix}\n",
        "d(x_1,x_1) & d(x_1,x_2) & \\dots & d(x_1,x_n)\\\\\n",
        "d(x_2,x_1) & d(x_2,x_2) & \\dots & d(x_2,x_n)\\\\\n",
        "\\vdots & \\vdots & \\ddots & \\vdots\\\\\n",
        "d(x_n,x_1) & d(x_n,x_2) & \\dots & d(x_n,x_n)\n",
        "\\end{pmatrix}\n",
        "$$\n",
        "\n",
        "Es una matrix NxN, donde N es el número de observaciones en la matriz de datos. Cada entrada de la matriz $d(x_i,x_j)$ es la distancia entre observación $i$ y $j$, y se calcula como\n",
        "\n",
        "$$\n",
        "d(x_i,x_j) = \\sqrt{\\sum_l (x_{il} - x_{jl})^2}\n",
        "$$\n",
        "\n",
        "Es decir, resta cada variable, elemento por elemento, de los vectores de observación, eleva las restas al cuadrado y suma todas. Al final saca la raíz. Esta es la distancia euclidiana o norma-2.\n",
        "\n",
        "Una de las maneras mas eficientes en computo, aunque no en memoria, es hacer un broadcast en 3D, aunque no es la única manera."
      ]
    },
    {
      "cell_type": "code",
      "metadata": {
        "id": "1TRYNU_Yr_mI"
      },
      "source": [
        "def distance_matrix(X):\n",
        "    \"\"\"Retorna la DISTANCIA EUCLIDIANA entre los puntos (datos) de la matriz X. \"\"\"\n",
        "    \n",
        "    # Codea aquí\n",
        "\n",
        "\n",
        "    return D"
      ],
      "execution_count": null,
      "outputs": []
    },
    {
      "cell_type": "code",
      "metadata": {
        "id": "pVUB-cxay7LS"
      },
      "source": [
        "\n"
      ],
      "execution_count": null,
      "outputs": []
    },
    {
      "cell_type": "markdown",
      "metadata": {
        "id": "8_zQWY4Cr_mI"
      },
      "source": [
        "## References\n",
        "- Adapted from: https://mathtocode.com/ by Vernon Thommeret"
      ]
    }
  ]
}